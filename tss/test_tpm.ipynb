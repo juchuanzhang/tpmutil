{
 "cells": [
  {
   "cell_type": "code",
   "execution_count": 1,
   "id": "d8bfbbc9",
   "metadata": {},
   "outputs": [
    {
     "name": "stdout",
     "output_type": "stream",
     "text": [
      "TSS.Py::__INIT__.PY invoked\n"
     ]
    }
   ],
   "source": [
    "from src.Tpm import *\n",
    "from src.TpmTypes import *"
   ]
  },
  {
   "cell_type": "code",
   "execution_count": 2,
   "id": "1cf680e1",
   "metadata": {},
   "outputs": [],
   "source": [
    "mytpm = Tpm(useSimulator = True, host = '127.0.0.1', port = 2321)\n",
    "mytpm.connect()"
   ]
  },
  {
   "cell_type": "code",
   "execution_count": null,
   "id": "3db0cf1d",
   "metadata": {},
   "outputs": [],
   "source": [
    "mytpm.disconnect()"
   ]
  },
  {
   "cell_type": "code",
   "execution_count": 3,
   "id": "4346b58d",
   "metadata": {},
   "outputs": [
    {
     "name": "stdout",
     "output_type": "stream",
     "text": [
      "80010000000c0000017b0008\n",
      "Command                                   .                                                                   \n",
      "TPMI_ST_COMMAND_TAG                       |   .tag                                       8001                 TPM_ST.NO_SESSIONS\n",
      "UINT32                                    |   .commandSize                               0000000c             12\n",
      "TPM_CC                                    |   .commandCode                               0000017b             TPM_CC.GetRandom\n",
      "TPMS_COMMAND_HANDLES_GET_RANDOM           |   .handles                                                        \n",
      "TPMS_COMMAND_PARAMS_GET_RANDOM            |   .parameters                                                     \n",
      "UINT16                                    |   |   .bytesRequested                        0008                 8\n",
      "80010000001400000000000813f645a3366d1efc\n",
      "Response                                  .                                                                   \n",
      "TPM_ST                                    |   .tag                                       8001                 TPM_ST.NO_SESSIONS\n",
      "UINT32                                    |   .responseSize                              00000014             20\n",
      "TPM_RC                                    |   .responseCode                              00000000             TPM_RC.SUCCESS\n",
      "TPMS_RESPONSE_HANDLES_GET_RANDOM          |   .handles                                                        \n",
      "TPMS_RESPONSE_PARAMS_GET_RANDOM           |   .parameters                                                     \n",
      "TPM2B_DIGEST                              |   |   .randomBytes                                                \n",
      "UINT16                                    |   |   |   .size                              0008                 8\n",
      "list[BYTE]                                |   |   |   .buffer                            13f645a3366d1efc     ..E.6m..\n"
     ]
    },
    {
     "data": {
      "text/plain": [
       "bytearray(b'\\x13\\xf6E\\xa36m\\x1e\\xfc')"
      ]
     },
     "execution_count": 3,
     "metadata": {},
     "output_type": "execute_result"
    }
   ],
   "source": [
    "mytpm.GetRandom(8)"
   ]
  },
  {
   "cell_type": "code",
   "execution_count": null,
   "id": "b2dc6fc5",
   "metadata": {},
   "outputs": [],
   "source": []
  }
 ],
 "metadata": {
  "kernelspec": {
   "display_name": "Python 3 (ipykernel)",
   "language": "python",
   "name": "python3"
  },
  "language_info": {
   "codemirror_mode": {
    "name": "ipython",
    "version": 3
   },
   "file_extension": ".py",
   "mimetype": "text/x-python",
   "name": "python",
   "nbconvert_exporter": "python",
   "pygments_lexer": "ipython3",
   "version": "3.11.2"
  }
 },
 "nbformat": 4,
 "nbformat_minor": 5
}
