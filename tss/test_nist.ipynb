{
 "cells": [
  {
   "cell_type": "code",
   "execution_count": 3,
   "id": "32e56805",
   "metadata": {},
   "outputs": [],
   "source": [
    "from src.lhmac import NIST"
   ]
  },
  {
   "cell_type": "code",
   "execution_count": null,
   "id": "f4fc3026",
   "metadata": {},
   "outputs": [],
   "source": [
    "ki = bytes.fromhex(\"216fe07662d332244962dd26b3dc9d4ec77783b4\")\n",
    "L = 128\n",
    "FixedInputDataByteLen = 60\n",
    "FixedInputData = bytes.fromhex(\"365047101061fd650db1c8356da8a3cc1494c0ec7f9eda7264150391ed07bcb15d86fba7399861061dd37cddbbdad38d1d4902d39ce1f0cd627965fe\")\n",
    "# KO = 05e1a344b073117cb8743647e5320449\n",
    "obj = NIST.new()\n",
    "obj.set_hmac(hashlib.sha1, ki)\n",
    "ret = obj.derive_key(L,FixedInputData)"
   ]
  },
  {
   "cell_type": "code",
   "execution_count": null,
   "id": "47d60cae",
   "metadata": {},
   "outputs": [],
   "source": [
    "def KDFa(hashAlg=None, key=None, label=None, contextU=None, contextV=None, bits=128):\n",
    "    "
   ]
  }
 ],
 "metadata": {
  "kernelspec": {
   "display_name": "Python 3 (ipykernel)",
   "language": "python",
   "name": "python3"
  },
  "language_info": {
   "codemirror_mode": {
    "name": "ipython",
    "version": 3
   },
   "file_extension": ".py",
   "mimetype": "text/x-python",
   "name": "python",
   "nbconvert_exporter": "python",
   "pygments_lexer": "ipython3",
   "version": "3.11.2"
  }
 },
 "nbformat": 4,
 "nbformat_minor": 5
}
